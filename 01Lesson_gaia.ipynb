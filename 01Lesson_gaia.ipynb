{
 "cells": [
  {
   "cell_type": "code",
   "execution_count": 1,
   "metadata": {},
   "outputs": [
    {
     "name": "stdout",
     "output_type": "stream",
     "text": [
      "Created TAP+ (v1.2.1) - Connection:\n",
      "\tHost: gea.esac.esa.int\n",
      "\tUse HTTPS: True\n",
      "\tPort: 443\n",
      "\tSSL Port: 443\n",
      "Created TAP+ (v1.2.1) - Connection:\n",
      "\tHost: geadata.esac.esa.int\n",
      "\tUse HTTPS: True\n",
      "\tPort: 443\n",
      "\tSSL Port: 443\n"
     ]
    }
   ],
   "source": [
    "from astroquery.gaia import Gaia "
   ]
  },
  {
   "cell_type": "code",
   "execution_count": 2,
   "metadata": {},
   "outputs": [
    {
     "data": {
      "text/plain": [
       "<astroquery.gaia.core.GaiaClass at 0x7f8228e38fd0>"
      ]
     },
     "execution_count": 2,
     "metadata": {},
     "output_type": "execute_result"
    }
   ],
   "source": [
    "Gaia"
   ]
  },
  {
   "cell_type": "code",
   "execution_count": 4,
   "metadata": {},
   "outputs": [
    {
     "name": "stdout",
     "output_type": "stream",
     "text": [
      "INFO: Retrieving tables... [astroquery.utils.tap.core]\n",
      "INFO: Parsing tables... [astroquery.utils.tap.core]\n",
      "INFO: Done. [astroquery.utils.tap.core]\n"
     ]
    }
   ],
   "source": [
    "tables = Gaia.load_tables(only_names=True)"
   ]
  },
  {
   "cell_type": "code",
   "execution_count": 5,
   "metadata": {},
   "outputs": [
    {
     "data": {
      "text/plain": [
       "list"
      ]
     },
     "execution_count": 5,
     "metadata": {},
     "output_type": "execute_result"
    }
   ],
   "source": [
    "type(tables)"
   ]
  },
  {
   "cell_type": "code",
   "execution_count": 6,
   "metadata": {},
   "outputs": [
    {
     "name": "stdout",
     "output_type": "stream",
     "text": [
      "external.external.apassdr9\n",
      "external.external.gaiadr2_geometric_distance\n",
      "external.external.galex_ais\n",
      "external.external.ravedr5_com\n",
      "external.external.ravedr5_dr5\n",
      "external.external.ravedr5_gra\n",
      "external.external.ravedr5_on\n",
      "external.external.sdssdr13_photoprimary\n",
      "external.external.skymapperdr1_master\n",
      "external.external.tmass_xsc\n",
      "public.public.hipparcos\n",
      "public.public.hipparcos_newreduction\n",
      "public.public.hubble_sc\n",
      "public.public.igsl_source\n",
      "public.public.igsl_source_catalog_ids\n",
      "public.public.tycho2\n",
      "public.public.dual\n",
      "tap_config.tap_config.coord_sys\n",
      "tap_config.tap_config.properties\n",
      "tap_schema.tap_schema.columns\n",
      "tap_schema.tap_schema.key_columns\n",
      "tap_schema.tap_schema.keys\n",
      "tap_schema.tap_schema.schemas\n",
      "tap_schema.tap_schema.tables\n",
      "gaiadr1.gaiadr1.aux_qso_icrf2_match\n",
      "gaiadr1.gaiadr1.ext_phot_zero_point\n",
      "gaiadr1.gaiadr1.allwise_best_neighbour\n",
      "gaiadr1.gaiadr1.allwise_neighbourhood\n",
      "gaiadr1.gaiadr1.gsc23_best_neighbour\n",
      "gaiadr1.gaiadr1.gsc23_neighbourhood\n",
      "gaiadr1.gaiadr1.ppmxl_best_neighbour\n",
      "gaiadr1.gaiadr1.ppmxl_neighbourhood\n",
      "gaiadr1.gaiadr1.sdss_dr9_best_neighbour\n",
      "gaiadr1.gaiadr1.sdss_dr9_neighbourhood\n",
      "gaiadr1.gaiadr1.tmass_best_neighbour\n",
      "gaiadr1.gaiadr1.tmass_neighbourhood\n",
      "gaiadr1.gaiadr1.ucac4_best_neighbour\n",
      "gaiadr1.gaiadr1.ucac4_neighbourhood\n",
      "gaiadr1.gaiadr1.urat1_best_neighbour\n",
      "gaiadr1.gaiadr1.urat1_neighbourhood\n",
      "gaiadr1.gaiadr1.cepheid\n",
      "gaiadr1.gaiadr1.phot_variable_time_series_gfov\n",
      "gaiadr1.gaiadr1.phot_variable_time_series_gfov_statistical_parameters\n",
      "gaiadr1.gaiadr1.rrlyrae\n",
      "gaiadr1.gaiadr1.variable_summary\n",
      "gaiadr1.gaiadr1.allwise_original_valid\n",
      "gaiadr1.gaiadr1.gsc23_original_valid\n",
      "gaiadr1.gaiadr1.ppmxl_original_valid\n",
      "gaiadr1.gaiadr1.sdssdr9_original_valid\n",
      "gaiadr1.gaiadr1.tmass_original_valid\n",
      "gaiadr1.gaiadr1.ucac4_original_valid\n",
      "gaiadr1.gaiadr1.urat1_original_valid\n",
      "gaiadr1.gaiadr1.gaia_source\n",
      "gaiadr1.gaiadr1.tgas_source\n",
      "gaiadr2.gaiadr2.aux_allwise_agn_gdr2_cross_id\n",
      "gaiadr2.gaiadr2.aux_iers_gdr2_cross_id\n",
      "gaiadr2.gaiadr2.aux_sso_orbit_residuals\n",
      "gaiadr2.gaiadr2.aux_sso_orbits\n",
      "gaiadr2.gaiadr2.dr1_neighbourhood\n",
      "gaiadr2.gaiadr2.allwise_best_neighbour\n",
      "gaiadr2.gaiadr2.allwise_neighbourhood\n",
      "gaiadr2.gaiadr2.apassdr9_best_neighbour\n",
      "gaiadr2.gaiadr2.apassdr9_neighbourhood\n",
      "gaiadr2.gaiadr2.gsc23_best_neighbour\n",
      "gaiadr2.gaiadr2.gsc23_neighbourhood\n",
      "gaiadr2.gaiadr2.hipparcos2_best_neighbour\n",
      "gaiadr2.gaiadr2.hipparcos2_neighbourhood\n",
      "gaiadr2.gaiadr2.panstarrs1_best_neighbour\n",
      "gaiadr2.gaiadr2.panstarrs1_neighbourhood\n",
      "gaiadr2.gaiadr2.ppmxl_best_neighbour\n",
      "gaiadr2.gaiadr2.ppmxl_neighbourhood\n",
      "gaiadr2.gaiadr2.ravedr5_best_neighbour\n",
      "gaiadr2.gaiadr2.ravedr5_neighbourhood\n",
      "gaiadr2.gaiadr2.sdssdr9_best_neighbour\n",
      "gaiadr2.gaiadr2.sdssdr9_neighbourhood\n",
      "gaiadr2.gaiadr2.tmass_best_neighbour\n",
      "gaiadr2.gaiadr2.tmass_neighbourhood\n",
      "gaiadr2.gaiadr2.tycho2_best_neighbour\n",
      "gaiadr2.gaiadr2.tycho2_neighbourhood\n",
      "gaiadr2.gaiadr2.urat1_best_neighbour\n",
      "gaiadr2.gaiadr2.urat1_neighbourhood\n",
      "gaiadr2.gaiadr2.sso_observation\n",
      "gaiadr2.gaiadr2.sso_source\n",
      "gaiadr2.gaiadr2.vari_cepheid\n",
      "gaiadr2.gaiadr2.vari_classifier_class_definition\n",
      "gaiadr2.gaiadr2.vari_classifier_definition\n",
      "gaiadr2.gaiadr2.vari_classifier_result\n",
      "gaiadr2.gaiadr2.vari_long_period_variable\n",
      "gaiadr2.gaiadr2.vari_rotation_modulation\n",
      "gaiadr2.gaiadr2.vari_rrlyrae\n",
      "gaiadr2.gaiadr2.vari_short_timescale\n",
      "gaiadr2.gaiadr2.vari_time_series_statistics\n",
      "gaiadr2.gaiadr2.panstarrs1_original_valid\n",
      "gaiadr2.gaiadr2.gaia_source\n",
      "gaiadr2.gaiadr2.ruwe\n"
     ]
    }
   ],
   "source": [
    "for table in tables:\n",
    "    print(table.get_qualified_name())"
   ]
  },
  {
   "cell_type": "code",
   "execution_count": 8,
   "metadata": {},
   "outputs": [
    {
     "name": "stdout",
     "output_type": "stream",
     "text": [
      "Retrieving table 'gaiadr2.gaia_source'\n",
      "Parsing table 'gaiadr2.gaia_source'...\n",
      "Done.\n"
     ]
    }
   ],
   "source": [
    "meta=Gaia.load_table('gaiadr2.gaia_source') #note that you dont want the first gaiadr2 above, just one\n",
    "# note also that if you type tables instead of table you'll just get the above again. "
   ]
  },
  {
   "cell_type": "code",
   "execution_count": 9,
   "metadata": {},
   "outputs": [
    {
     "name": "stdout",
     "output_type": "stream",
     "text": [
      "TAP Table name: gaiadr2.gaiadr2.gaia_source\n",
      "Description: This table has an entry for every Gaia observed source as listed in the\n",
      "Main Database accumulating catalogue version from which the catalogue\n",
      "release has been generated. It contains the basic source parameters,\n",
      "that is only final data (no epoch data) and no spectra (neither final\n",
      "nor epoch).\n",
      "Num. columns: 96\n"
     ]
    }
   ],
   "source": [
    "print(meta)"
   ]
  },
  {
   "cell_type": "code",
   "execution_count": 11,
   "metadata": {},
   "outputs": [
    {
     "name": "stdout",
     "output_type": "stream",
     "text": [
      "solution_id\n",
      "designation\n",
      "source_id\n",
      "random_index\n",
      "ref_epoch\n",
      "ra\n",
      "ra_error\n",
      "dec\n",
      "dec_error\n",
      "parallax\n",
      "parallax_error\n",
      "parallax_over_error\n",
      "pmra\n",
      "pmra_error\n",
      "pmdec\n",
      "pmdec_error\n",
      "ra_dec_corr\n",
      "ra_parallax_corr\n",
      "ra_pmra_corr\n",
      "ra_pmdec_corr\n",
      "dec_parallax_corr\n",
      "dec_pmra_corr\n",
      "dec_pmdec_corr\n",
      "parallax_pmra_corr\n",
      "parallax_pmdec_corr\n",
      "pmra_pmdec_corr\n",
      "astrometric_n_obs_al\n",
      "astrometric_n_obs_ac\n",
      "astrometric_n_good_obs_al\n",
      "astrometric_n_bad_obs_al\n",
      "astrometric_gof_al\n",
      "astrometric_chi2_al\n",
      "astrometric_excess_noise\n",
      "astrometric_excess_noise_sig\n",
      "astrometric_params_solved\n",
      "astrometric_primary_flag\n",
      "astrometric_weight_al\n",
      "astrometric_pseudo_colour\n",
      "astrometric_pseudo_colour_error\n",
      "mean_varpi_factor_al\n",
      "astrometric_matched_observations\n",
      "visibility_periods_used\n",
      "astrometric_sigma5d_max\n",
      "frame_rotator_object_type\n",
      "matched_observations\n",
      "duplicated_source\n",
      "phot_g_n_obs\n",
      "phot_g_mean_flux\n",
      "phot_g_mean_flux_error\n",
      "phot_g_mean_flux_over_error\n",
      "phot_g_mean_mag\n",
      "phot_bp_n_obs\n",
      "phot_bp_mean_flux\n",
      "phot_bp_mean_flux_error\n",
      "phot_bp_mean_flux_over_error\n",
      "phot_bp_mean_mag\n",
      "phot_rp_n_obs\n",
      "phot_rp_mean_flux\n",
      "phot_rp_mean_flux_error\n",
      "phot_rp_mean_flux_over_error\n",
      "phot_rp_mean_mag\n",
      "phot_bp_rp_excess_factor\n",
      "phot_proc_mode\n",
      "bp_rp\n",
      "bp_g\n",
      "g_rp\n",
      "radial_velocity\n",
      "radial_velocity_error\n",
      "rv_nb_transits\n",
      "rv_template_teff\n",
      "rv_template_logg\n",
      "rv_template_fe_h\n",
      "phot_variable_flag\n",
      "l\n",
      "b\n",
      "ecl_lon\n",
      "ecl_lat\n",
      "priam_flags\n",
      "teff_val\n",
      "teff_percentile_lower\n",
      "teff_percentile_upper\n",
      "a_g_val\n",
      "a_g_percentile_lower\n",
      "a_g_percentile_upper\n",
      "e_bp_min_rp_val\n",
      "e_bp_min_rp_percentile_lower\n",
      "e_bp_min_rp_percentile_upper\n",
      "flame_flags\n",
      "radius_val\n",
      "radius_percentile_lower\n",
      "radius_percentile_upper\n",
      "lum_val\n",
      "lum_percentile_lower\n",
      "lum_percentile_upper\n",
      "datalink_url\n",
      "epoch_photometry_url\n"
     ]
    }
   ],
   "source": [
    "for column in meta.columns:\n",
    "    print(column.name)"
   ]
  },
  {
   "cell_type": "code",
   "execution_count": 12,
   "metadata": {},
   "outputs": [
    {
     "name": "stdout",
     "output_type": "stream",
     "text": [
      "Retrieving table 'gaiadr2.panstarrs1_original_valid'\n",
      "Parsing table 'gaiadr2.panstarrs1_original_valid'...\n",
      "Done.\n"
     ]
    }
   ],
   "source": [
    "meta2 = Gaia.load_table('gaiadr2.panstarrs1_original_valid')"
   ]
  },
  {
   "cell_type": "code",
   "execution_count": 13,
   "metadata": {},
   "outputs": [
    {
     "data": {
      "text/plain": [
       "<astroquery.utils.tap.model.taptable.TapTableMeta at 0x7f82293029d0>"
      ]
     },
     "execution_count": 13,
     "metadata": {},
     "output_type": "execute_result"
    }
   ],
   "source": [
    "meta2\n"
   ]
  },
  {
   "cell_type": "code",
   "execution_count": 14,
   "metadata": {},
   "outputs": [
    {
     "name": "stdout",
     "output_type": "stream",
     "text": [
      "obj_name\n",
      "obj_id\n",
      "ra\n",
      "dec\n",
      "ra_error\n",
      "dec_error\n",
      "epoch_mean\n",
      "g_mean_psf_mag\n",
      "g_mean_psf_mag_error\n",
      "g_flags\n",
      "r_mean_psf_mag\n",
      "r_mean_psf_mag_error\n",
      "r_flags\n",
      "i_mean_psf_mag\n",
      "i_mean_psf_mag_error\n",
      "i_flags\n",
      "z_mean_psf_mag\n",
      "z_mean_psf_mag_error\n",
      "z_flags\n",
      "y_mean_psf_mag\n",
      "y_mean_psf_mag_error\n",
      "y_flags\n",
      "n_detections\n",
      "zone_id\n",
      "obj_info_flag\n",
      "quality_flag\n"
     ]
    }
   ],
   "source": [
    "for column in meta2.columns:\n",
    "    print(column.name)"
   ]
  },
  {
   "cell_type": "markdown",
   "metadata": {},
   "source": [
    "## Writing queries"
   ]
  },
  {
   "cell_type": "code",
   "execution_count": 68,
   "metadata": {},
   "outputs": [],
   "source": [
    "columns = 'source_id,ref_epoch,ra,dec,parallax'\n",
    "columns2 = 'source_id,ref_epoch,ra,dec,parallax,parallax_error,radial_velocity'"
   ]
  },
  {
   "cell_type": "code",
   "execution_count": 69,
   "metadata": {},
   "outputs": [],
   "source": [
    "max_parallax = 1.0"
   ]
  },
  {
   "cell_type": "code",
   "execution_count": 70,
   "metadata": {},
   "outputs": [],
   "source": [
    "query_base = \"\"\"SELECT \n",
    "TOP 3000\n",
    "{columns}\n",
    "FROM gaiadr2.gaia_source\n",
    "WHERE bp_rp > -0.75 and bp_rp<2.0 and parallax < {max_parallax}\n",
    "\"\"\""
   ]
  },
  {
   "cell_type": "code",
   "execution_count": 71,
   "metadata": {},
   "outputs": [],
   "source": [
    "query=query_base.format(columns=columns2,max_parallax=max_parallax)"
   ]
  },
  {
   "cell_type": "code",
   "execution_count": 72,
   "metadata": {},
   "outputs": [
    {
     "name": "stdout",
     "output_type": "stream",
     "text": [
      "SELECT \n",
      "TOP 3000\n",
      "source_id,ref_epoch,ra,dec,parallax,parallax_error,radial_velocity\n",
      "FROM gaiadr2.gaia_source\n",
      "WHERE bp_rp > -0.75 and bp_rp<2.0 and parallax < 1.0\n",
      "\n"
     ]
    }
   ],
   "source": [
    "print(query)"
   ]
  },
  {
   "cell_type": "code",
   "execution_count": 73,
   "metadata": {},
   "outputs": [
    {
     "name": "stdout",
     "output_type": "stream",
     "text": [
      "INFO: Query finished. [astroquery.utils.tap.core]\n"
     ]
    }
   ],
   "source": [
    "job  = Gaia.launch_job_async(query)\n"
   ]
  },
  {
   "cell_type": "code",
   "execution_count": 74,
   "metadata": {},
   "outputs": [
    {
     "data": {
      "text/plain": [
       "<astroquery.utils.tap.model.job.Job at 0x7f822a5f3d10>"
      ]
     },
     "execution_count": 74,
     "metadata": {},
     "output_type": "execute_result"
    }
   ],
   "source": [
    "job"
   ]
  },
  {
   "cell_type": "code",
   "execution_count": 75,
   "metadata": {},
   "outputs": [
    {
     "name": "stdout",
     "output_type": "stream",
     "text": [
      "<Table length=3000>\n",
      "      name       dtype   unit                             description                             n_bad\n",
      "--------------- ------- ------ ------------------------------------------------------------------ -----\n",
      "      source_id   int64        Unique source identifier (unique within a particular Data Release)     0\n",
      "      ref_epoch float64     yr                                                    Reference epoch     0\n",
      "             ra float64    deg                                                    Right ascension     0\n",
      "            dec float64    deg                                                        Declination     0\n",
      "       parallax float64    mas                                                           Parallax     0\n",
      " parallax_error float64    mas                                         Standard error of parallax     0\n",
      "radial_velocity float64 km / s                                                    Radial velocity  2988\n",
      "Jobid: 1605558803709O\n",
      "Phase: COMPLETED\n",
      "Owner: None\n",
      "Output file: async_20201116153323.vot\n",
      "Results: None\n"
     ]
    }
   ],
   "source": [
    "print(job)"
   ]
  },
  {
   "cell_type": "code",
   "execution_count": 76,
   "metadata": {},
   "outputs": [],
   "source": [
    "results=job.get_results()"
   ]
  },
  {
   "cell_type": "code",
   "execution_count": 77,
   "metadata": {},
   "outputs": [
    {
     "data": {
      "text/html": [
       "<i>Table length=3000</i>\n",
       "<table id=\"table140197033302928\" class=\"table-striped table-bordered table-condensed\">\n",
       "<thead><tr><th>source_id</th><th>ref_epoch</th><th>ra</th><th>dec</th><th>parallax</th><th>parallax_error</th><th>radial_velocity</th></tr></thead>\n",
       "<thead><tr><th></th><th>yr</th><th>deg</th><th>deg</th><th>mas</th><th>mas</th><th>km / s</th></tr></thead>\n",
       "<thead><tr><th>int64</th><th>float64</th><th>float64</th><th>float64</th><th>float64</th><th>float64</th><th>float64</th></tr></thead>\n",
       "<tr><td>6649814271450523264</td><td>2015.5</td><td>281.09577242848565</td><td>-55.67458571019466</td><td>0.275934483087863</td><td>0.5918659482985064</td><td>--</td></tr>\n",
       "<tr><td>6649756886392627584</td><td>2015.5</td><td>281.6977122750108</td><td>-55.78129753466743</td><td>0.27101673186706504</td><td>0.4787843710834978</td><td>--</td></tr>\n",
       "<tr><td>6649849971220583168</td><td>2015.5</td><td>278.2220113527421</td><td>-56.43997788534571</td><td>0.47410959812686454</td><td>0.05751648431754312</td><td>--</td></tr>\n",
       "<tr><td>6649791628387094272</td><td>2015.5</td><td>280.5307937971351</td><td>-55.828048351948944</td><td>0.444486232409651</td><td>0.19309567330935498</td><td>--</td></tr>\n",
       "<tr><td>6649803237677496704</td><td>2015.5</td><td>280.3850811913037</td><td>-55.77796201309632</td><td>0.23708469039865238</td><td>0.44011215664877673</td><td>--</td></tr>\n",
       "<tr><td>6649740947769492352</td><td>2015.5</td><td>280.96046177246217</td><td>-56.21899592687827</td><td>-1.2977002946980816</td><td>0.782899310792952</td><td>--</td></tr>\n",
       "<tr><td>6649792208201478016</td><td>2015.5</td><td>280.65519191368907</td><td>-55.78120554734457</td><td>0.6475738572812759</td><td>0.6198954343068623</td><td>--</td></tr>\n",
       "<tr><td>6649842858755204992</td><td>2015.5</td><td>281.23105876922403</td><td>-55.29067917882028</td><td>0.25718638356268075</td><td>1.3236365127818284</td><td>--</td></tr>\n",
       "<tr><td>6649771974617161088</td><td>2015.5</td><td>281.26714956647226</td><td>-55.72634202104856</td><td>0.2515197364009344</td><td>0.14184716476672424</td><td>--</td></tr>\n",
       "<tr><td>...</td><td>...</td><td>...</td><td>...</td><td>...</td><td>...</td><td>...</td></tr>\n",
       "<tr><td>6649797813140131328</td><td>2015.5</td><td>280.2147034880714</td><td>-55.81579362097795</td><td>0.31269343791879955</td><td>0.027932951623981184</td><td>--</td></tr>\n",
       "<tr><td>6649752698799025920</td><td>2015.5</td><td>281.65018983905514</td><td>-55.86255676312727</td><td>0.4150834091713797</td><td>0.26354845118323655</td><td>--</td></tr>\n",
       "<tr><td>6649830656748967040</td><td>2015.5</td><td>280.81238319814895</td><td>-55.545517400043884</td><td>0.2286393535977417</td><td>0.2568219442378922</td><td>--</td></tr>\n",
       "<tr><td>5930541492866951552</td><td>2015.5</td><td>249.17314130052924</td><td>-54.228203177919525</td><td>-0.24665010666079054</td><td>0.25880491186043153</td><td>--</td></tr>\n",
       "<tr><td>5930543210936237312</td><td>2015.5</td><td>249.14545424221387</td><td>-54.110956695277686</td><td>0.388321463706272</td><td>0.07871571888973483</td><td>--</td></tr>\n",
       "<tr><td>5930557160915781120</td><td>2015.5</td><td>248.99979189833883</td><td>-54.01298265482557</td><td>0.7111407458056291</td><td>0.4012408310715415</td><td>--</td></tr>\n",
       "<tr><td>5930536064093986944</td><td>2015.5</td><td>247.98736879878274</td><td>-53.67178306357454</td><td>0.07781751726389598</td><td>0.6833918724708729</td><td>--</td></tr>\n",
       "<tr><td>5930537232258625152</td><td>2015.5</td><td>249.3627689105685</td><td>-54.30317378271553</td><td>0.9950124311189679</td><td>0.4157592858770342</td><td>--</td></tr>\n",
       "<tr><td>5930538847166841472</td><td>2015.5</td><td>249.3227467263571</td><td>-54.20250001292703</td><td>-0.675035957012075</td><td>0.7716548883339995</td><td>--</td></tr>\n",
       "<tr><td>6233476256496127872</td><td>2015.5</td><td>235.91944716798974</td><td>-28.16928657452552</td><td>0.24934099264433437</td><td>0.17966114022572605</td><td>--</td></tr>\n",
       "</table>"
      ],
      "text/plain": [
       "<Table length=3000>\n",
       "     source_id      ref_epoch ...    parallax_error    radial_velocity\n",
       "                        yr    ...         mas               km / s    \n",
       "       int64         float64  ...       float64            float64    \n",
       "------------------- --------- ... -------------------- ---------------\n",
       "6649814271450523264    2015.5 ...   0.5918659482985064              --\n",
       "6649756886392627584    2015.5 ...   0.4787843710834978              --\n",
       "6649849971220583168    2015.5 ...  0.05751648431754312              --\n",
       "6649791628387094272    2015.5 ...  0.19309567330935498              --\n",
       "6649803237677496704    2015.5 ...  0.44011215664877673              --\n",
       "6649740947769492352    2015.5 ...    0.782899310792952              --\n",
       "6649792208201478016    2015.5 ...   0.6198954343068623              --\n",
       "6649842858755204992    2015.5 ...   1.3236365127818284              --\n",
       "6649771974617161088    2015.5 ...  0.14184716476672424              --\n",
       "                ...       ... ...                  ...             ...\n",
       "6649797813140131328    2015.5 ... 0.027932951623981184              --\n",
       "6649752698799025920    2015.5 ...  0.26354845118323655              --\n",
       "6649830656748967040    2015.5 ...   0.2568219442378922              --\n",
       "5930541492866951552    2015.5 ...  0.25880491186043153              --\n",
       "5930543210936237312    2015.5 ...  0.07871571888973483              --\n",
       "5930557160915781120    2015.5 ...   0.4012408310715415              --\n",
       "5930536064093986944    2015.5 ...   0.6833918724708729              --\n",
       "5930537232258625152    2015.5 ...   0.4157592858770342              --\n",
       "5930538847166841472    2015.5 ...   0.7716548883339995              --\n",
       "6233476256496127872    2015.5 ...  0.17966114022572605              --"
      ]
     },
     "execution_count": 77,
     "metadata": {},
     "output_type": "execute_result"
    }
   ],
   "source": [
    "results\n"
   ]
  },
  {
   "cell_type": "code",
   "execution_count": 78,
   "metadata": {},
   "outputs": [
    {
     "data": {
      "text/plain": [
       "astropy.table.table.Table"
      ]
     },
     "execution_count": 78,
     "metadata": {},
     "output_type": "execute_result"
    }
   ],
   "source": [
    "type(results)"
   ]
  },
  {
   "cell_type": "markdown",
   "metadata": {},
   "source": [
    "#short jobs can be run with launch_job  (less than 3000)\n",
    "#long jobs should be run with launch_job_async\n"
   ]
  },
  {
   "cell_type": "code",
   "execution_count": 79,
   "metadata": {},
   "outputs": [
    {
     "name": "stdout",
     "output_type": "stream",
     "text": [
      "     source_id      ref_epoch ...    parallax_error    radial_velocity\n",
      "                        yr    ...         mas               km / s    \n",
      "------------------- --------- ... -------------------- ---------------\n",
      "6649814271450523264    2015.5 ...   0.5918659482985064              --\n",
      "6649756886392627584    2015.5 ...   0.4787843710834978              --\n",
      "6649849971220583168    2015.5 ...  0.05751648431754312              --\n",
      "6649791628387094272    2015.5 ...  0.19309567330935498              --\n",
      "6649803237677496704    2015.5 ...  0.44011215664877673              --\n",
      "6649740947769492352    2015.5 ...    0.782899310792952              --\n",
      "6649792208201478016    2015.5 ...   0.6198954343068623              --\n",
      "6649842858755204992    2015.5 ...   1.3236365127818284              --\n",
      "6649771974617161088    2015.5 ...  0.14184716476672424              --\n",
      "6649851066437107968    2015.5 ...   0.7447149069533899              --\n",
      "                ...       ... ...                  ...             ...\n",
      "6649797813140131328    2015.5 ... 0.027932951623981184              --\n",
      "6649752698799025920    2015.5 ...  0.26354845118323655              --\n",
      "6649830656748967040    2015.5 ...   0.2568219442378922              --\n",
      "5930541492866951552    2015.5 ...  0.25880491186043153              --\n",
      "5930543210936237312    2015.5 ...  0.07871571888973483              --\n",
      "5930557160915781120    2015.5 ...   0.4012408310715415              --\n",
      "5930536064093986944    2015.5 ...   0.6833918724708729              --\n",
      "5930537232258625152    2015.5 ...   0.4157592858770342              --\n",
      "5930538847166841472    2015.5 ...   0.7716548883339995              --\n",
      "6233476256496127872    2015.5 ...  0.17966114022572605              --\n",
      "Length = 3000 rows\n"
     ]
    }
   ],
   "source": [
    "print(results)\n"
   ]
  },
  {
   "cell_type": "code",
   "execution_count": null,
   "metadata": {},
   "outputs": [],
   "source": []
  }
 ],
 "metadata": {
  "kernelspec": {
   "display_name": "Python 3",
   "language": "python",
   "name": "python3"
  },
  "language_info": {
   "codemirror_mode": {
    "name": "ipython",
    "version": 3
   },
   "file_extension": ".py",
   "mimetype": "text/x-python",
   "name": "python",
   "nbconvert_exporter": "python",
   "pygments_lexer": "ipython3",
   "version": "3.7.7"
  }
 },
 "nbformat": 4,
 "nbformat_minor": 4
}
